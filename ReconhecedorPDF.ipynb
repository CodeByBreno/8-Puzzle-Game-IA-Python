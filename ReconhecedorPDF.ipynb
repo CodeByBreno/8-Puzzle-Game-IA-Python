{
  "nbformat": 4,
  "nbformat_minor": 0,
  "metadata": {
    "colab": {
      "provenance": [],
      "authorship_tag": "ABX9TyOLmdrbprCumXGbQAKpNNW8",
      "include_colab_link": true
    },
    "kernelspec": {
      "name": "python3",
      "display_name": "Python 3"
    },
    "language_info": {
      "name": "python"
    }
  },
  "cells": [
    {
      "cell_type": "markdown",
      "metadata": {
        "id": "view-in-github",
        "colab_type": "text"
      },
      "source": [
        "<a href=\"https://colab.research.google.com/github/CodeByBreno/8-Puzzle-Game-IA-Python/blob/main/ReconhecedorPDF.ipynb\" target=\"_parent\"><img src=\"https://colab.research.google.com/assets/colab-badge.svg\" alt=\"Open In Colab\"/></a>"
      ]
    },
    {
      "cell_type": "markdown",
      "source": [
        "#Leitura inteligente de dados a partir de PDF"
      ],
      "metadata": {
        "id": "ywl_op91WGKu"
      }
    },
    {
      "cell_type": "markdown",
      "source": [
        "Montagem de acesso ao drive e path para o arquivo PDF"
      ],
      "metadata": {
        "id": "UlF0-tjdWY_E"
      }
    },
    {
      "cell_type": "code",
      "execution_count": null,
      "metadata": {
        "colab": {
          "base_uri": "https://localhost:8080/"
        },
        "id": "k73frOgLVS8w",
        "outputId": "a2eb7e8c-50ed-4100-c23e-25d0e826f62d"
      },
      "outputs": [
        {
          "output_type": "stream",
          "name": "stdout",
          "text": [
            "Drive already mounted at /content/drive; to attempt to forcibly remount, call drive.mount(\"/content/drive\", force_remount=True).\n"
          ]
        }
      ],
      "source": [
        "from google.colab import drive\n",
        "drive.mount('/content/drive')\n",
        "\n",
        "# Listar os arquivos do seu Drive (ajuda a localizar o caminho exato)\n",
        "pdf_folder = '/content/drive/MyDrive/Projetos/IdentificarDadosQuimicosPDF'\n",
        "pdf_path = pdf_folder + '/dados_quimicos.pdf'"
      ]
    },
    {
      "cell_type": "markdown",
      "source": [
        "Instalação de bibliotecas"
      ],
      "metadata": {
        "id": "6vcyXKyyWWyl"
      }
    },
    {
      "cell_type": "code",
      "source": [
        "!pip install pdfplumber\n",
        "\n",
        "import pdfplumber\n",
        "import os\n",
        "import re\n",
        "from dataclasses import dataclass, field, asdict\n",
        "from typing import Optional"
      ],
      "metadata": {
        "colab": {
          "base_uri": "https://localhost:8080/"
        },
        "id": "guS9qrLLWUST",
        "outputId": "e7425965-024d-4504-97fc-2bcbb5aec797"
      },
      "execution_count": null,
      "outputs": [
        {
          "output_type": "stream",
          "name": "stdout",
          "text": [
            "Requirement already satisfied: pdfplumber in /usr/local/lib/python3.11/dist-packages (0.11.6)\n",
            "Requirement already satisfied: pdfminer.six==20250327 in /usr/local/lib/python3.11/dist-packages (from pdfplumber) (20250327)\n",
            "Requirement already satisfied: Pillow>=9.1 in /usr/local/lib/python3.11/dist-packages (from pdfplumber) (11.2.1)\n",
            "Requirement already satisfied: pypdfium2>=4.18.0 in /usr/local/lib/python3.11/dist-packages (from pdfplumber) (4.30.1)\n",
            "Requirement already satisfied: charset-normalizer>=2.0.0 in /usr/local/lib/python3.11/dist-packages (from pdfminer.six==20250327->pdfplumber) (3.4.2)\n",
            "Requirement already satisfied: cryptography>=36.0.0 in /usr/local/lib/python3.11/dist-packages (from pdfminer.six==20250327->pdfplumber) (43.0.3)\n",
            "Requirement already satisfied: cffi>=1.12 in /usr/local/lib/python3.11/dist-packages (from cryptography>=36.0.0->pdfminer.six==20250327->pdfplumber) (1.17.1)\n",
            "Requirement already satisfied: pycparser in /usr/local/lib/python3.11/dist-packages (from cffi>=1.12->cryptography>=36.0.0->pdfminer.six==20250327->pdfplumber) (2.22)\n"
          ]
        }
      ]
    },
    {
      "cell_type": "markdown",
      "source": [
        "Verificando a pasta onde se encontra o PDF"
      ],
      "metadata": {
        "id": "yT_bqGO5W0Wp"
      }
    },
    {
      "cell_type": "code",
      "source": [
        "os.listdir(pdf_folder)"
      ],
      "metadata": {
        "colab": {
          "base_uri": "https://localhost:8080/"
        },
        "id": "bAvTHLeBW3tf",
        "outputId": "1b45ae9f-331f-4196-99f8-39e3f9c8b5c1"
      },
      "execution_count": null,
      "outputs": [
        {
          "output_type": "execute_result",
          "data": {
            "text/plain": [
              "['dados_quimicos.pdf']"
            ]
          },
          "metadata": {},
          "execution_count": 10
        }
      ]
    },
    {
      "cell_type": "markdown",
      "source": [
        "REGEX para identificar padrões"
      ],
      "metadata": {
        "id": "vrsj3FGiYDiA"
      }
    },
    {
      "cell_type": "code",
      "source": [
        "solicitantePattern = re.compile(r\"^SOLICITANTE\\s+(.+)$\", re.IGNORECASE);\n",
        "clientePattern = re.compile(r\"^CLIENTE\\s+(.+)$\", re.IGNORECASE);\n",
        "propriedade"
      ],
      "metadata": {
        "id": "n-LM110NYDP2"
      },
      "execution_count": null,
      "outputs": []
    },
    {
      "cell_type": "markdown",
      "source": [
        "Extrações individuais"
      ],
      "metadata": {
        "id": "KP2TXCRaYZjp"
      }
    },
    {
      "cell_type": "code",
      "source": [
        "def extract(pattern, file_text):\n",
        "   for line in file_text.splitlines():\n",
        "        match = pattern.search(line.strip())\n",
        "        if match:\n",
        "            return match.group(1).strip()\n",
        "\n",
        "def extractSolicitante(file_text):\n",
        "  return extract(solicitantePattern, file_text)"
      ],
      "metadata": {
        "id": "9Ng6ZrJCYbMk"
      },
      "execution_count": null,
      "outputs": []
    },
    {
      "cell_type": "markdown",
      "source": [
        "Modelo"
      ],
      "metadata": {
        "id": "Vb_TgNDCcm-O"
      }
    },
    {
      "cell_type": "code",
      "source": [
        "@dataclass\n",
        "class PDFDataModel:\n",
        "    file: str\n",
        "    solicitante: Optional[str] = None\n",
        "\n",
        "    def extract(self):\n",
        "        self.solicitante = extractSolicitante(self.file)\n",
        "\n",
        "    def show(self):\n",
        "        for key, value in asdict(self).items():\n",
        "          if key != \"file\":\n",
        "              print(f\"{key}: {value}\")"
      ],
      "metadata": {
        "id": "QXckFcpxcoF-"
      },
      "execution_count": null,
      "outputs": []
    },
    {
      "cell_type": "markdown",
      "source": [
        "Inicializando o modelo de dados"
      ],
      "metadata": {
        "id": "_XKkKxfhYFLJ"
      }
    },
    {
      "cell_type": "code",
      "source": [
        "with pdfplumber.open(pdf_path) as pdf:\n",
        "    page = pdf.pages[0]\n",
        "    file_text = page.extract_text()\n",
        "\n",
        "model = PDFDataModel(file_text);"
      ],
      "metadata": {
        "colab": {
          "base_uri": "https://localhost:8080/"
        },
        "id": "ApyHzV4nXgWT",
        "outputId": "acd342e8-ab4c-4dc8-bd96-dbe32ad1342a"
      },
      "execution_count": null,
      "outputs": [
        {
          "output_type": "stream",
          "name": "stderr",
          "text": [
            "WARNING:pdfminer.pdfpage:CropBox missing from /Page, defaulting to MediaBox\n",
            "WARNING:pdfminer.pdfpage:CropBox missing from /Page, defaulting to MediaBox\n"
          ]
        }
      ]
    },
    {
      "cell_type": "code",
      "source": [
        "model.extract()\n",
        "model.show()"
      ],
      "metadata": {
        "colab": {
          "base_uri": "https://localhost:8080/"
        },
        "id": "SvjEKkTYWTJz",
        "outputId": "3609f6f7-8df9-4dfc-80ed-9b3aac6e37f5"
      },
      "execution_count": null,
      "outputs": [
        {
          "output_type": "stream",
          "name": "stdout",
          "text": [
            "solicitante: Ítalo Cavalcante\n"
          ]
        }
      ]
    },
    {
      "cell_type": "markdown",
      "source": [
        "Visualização do texto do PDF"
      ],
      "metadata": {
        "id": "QJBFjnjjgOQ-"
      }
    },
    {
      "cell_type": "code",
      "source": [
        "for i, line in enumerate(file_text.splitlines()):\n",
        "    print(f\"{i:02d}: {line}\")"
      ],
      "metadata": {
        "colab": {
          "base_uri": "https://localhost:8080/"
        },
        "id": "icVdf9vKgN7q",
        "outputId": "b9dec29f-c3f7-4613-9c9d-7cc90ab46506"
      },
      "execution_count": null,
      "outputs": [
        {
          "output_type": "stream",
          "name": "stdout",
          "text": [
            "00: Rua Tchecoslováquia, 865 | Areia Branca | Petrolina/PE | CEP 56330-250 | (87) 3024-3596 | atendimento@plantsoil.com.br\n",
            "01: SOLICITANTE Ítalo Cavalcante\n",
            "02: CLIENTE Ítalo Cavalcante\n",
            "03: PROPRIEDADE - Data do protocolo: 08/08/2023\n",
            "04: MUNICÍPIO - Data de emissão: 23/08/2023\n",
            "05: ESTADO - OS: 5389\n",
            "06: E-MAIL\n",
            "07: Completa Rev. 0000\n",
            "08: Relatório de Ensaio Agronômico: Fertilidade do Solo\n",
            "09: Identificação da amostra: 23S08l10993 Cultura: Cacau Variedade: -\n",
            "10: Proprietário Área Parcela Estágio Idade Fase Lote\n",
            "11: - - - - - - -\n",
            "12: Espaçamento Setor Válvula Profundidade Outras informações Coleta:\n",
            "13: - - - 0-30 cm Sombreado -\n",
            "14: Atributo Resultado Interpretação* Atributo Resultado\n",
            "15: M. Org.1/ (g/kg) 0.2 Baixo pH 1:2,5 (Água) 5.81\n",
            "16: P-Mehlich-1 29.4 Alto pH 1:2,5 (KCl) **\n",
            "17: P-Resina (mg/dm3) 17.4 Médio P-Remanescente (mg/L) **\n",
            "18: S-SO 2- ** - CE2/ (dS/m) 0.56\n",
            "19: 4\n",
            "20: Ca2+ 1.65 Adequado Fe2+ **\n",
            "21: Mg2+ 0.35 Baixo Mn2+ **\n",
            "22: K+ 0.16 Médio Cu2+ (mg/dm3) **\n",
            "23: Na+ (cmol/dm3) 0.01 - Zn2+ **\n",
            "24: c\n",
            "25: S (bases) 2.16 - B **\n",
            "26: Al3+ 0.29 Baixo Cátions solúveis3/ Resultado\n",
            "27: H+Al 0.66 Muito Baixa Ca2+ sol **\n",
            "28: T 2.83 Baixa Mg2+ sol **\n",
            "29: (mmol/L)\n",
            "30: m 11.8 Baixa K+ sol c **\n",
            "31: (%)\n",
            "32: V 76.52 Alta Na+ sol **\n",
            "33: Relação entre bases Solução do solo Resultado\n",
            "34: Ca/Mg Ca/K Mg/K (Ca+Mg)/K PS4/ (%) **\n",
            "35: 4.7 10.2 2.2 12.4 RAS5/ (mmol/L)-0,5 **\n",
            "36: c\n",
            "37: Saturação (%) Outros elementos Resultado\n",
            "38: Cálcio 58.3 Sódio 0 Desejado Co (mg/dm3) **\n",
            "39: Magnésio 12.5 Potássio 5 23S08l10993 Mo **\n",
            "40: Potássio 5.7 Magnésio 20 1/Matéria Orgânica do Solo (Método da mufla)\n",
            "41: Sódio 0.4 Cálcio 65 2/Condutividade Elétrica no extrato da pasta de saturação\n",
            "42: \"In' --> Quantidade de amostra insuficiente p/ análise 3/ Determinados em amostras de solo com CE acima de 3,0 dS/m. Para estas amostras, foi\n",
            "43: realizado pré-tratamento para determinação dos cátions trocáveis\n",
            "44: #As indicações de interpretação contidas neste certificado de análise fazem parte do \"Guia Prático para Interpretação de 4/Porcentagem de saturação da pasta\n",
            "45: Resultados de Análises de Solo\" publicado pela Embrapa sob ISSN 1678-1953, cujos conceitos tiveram como base Cantarutti et al.\n",
            "46: (2007a; 2007b) e Sobral et al. (2007); ou do Centro de Pesquisa e Desenvolvimento de Solos e Recursos Ambientes (IAC). Os 5/Relação de Adsorção de Sódio\n",
            "47: atributos que são sensíveis aos teores de argila tem como base de interpretação os solos de textura média. A utilização destes\n",
            "48: critérios de interpretação é de responsabilidade do usuário. \"**\" --> Análise não solicitada\n",
            "49: ##Todas as atividades de laboratório foram desempenhadas na sede da PlantSoil Laboratórios.\n",
            "50: ###Este relatório não pode ser reproduzido sem a aprovação do laboratório, exceto se for reproduzido na integra. E refere-se exclusivamente à(s) amostra(s) analisada(s).\n",
            "51: ###A amostragem, envio e informações sobre a amostra são de responsabilidade do cliente. As amostras analisadas serão acondicionadas por 30 dias.\n",
            "52: ####A data e hora de realização dos ensaios pode ser solicitada à PlantSoil Laboratórios: atendimento@plantsoil.com.br\n",
            "53: Responsável Técnico\n",
            "54: Eng. Agrônomo\n",
            "55: Dr. em Solos e Nutrição de Plantas\n",
            "56: Jailson C. Cunha (CREA/PE 181246784-2)\n",
            "57: www.plantsoil.com.br\n"
          ]
        }
      ]
    }
  ]
}